{
 "cells": [
  {
   "cell_type": "code",
   "execution_count": 22,
   "id": "404dfd7a-d26b-456d-9ab6-0d753c8e4c96",
   "metadata": {},
   "outputs": [],
   "source": [
    "import pandas as pd\n",
    "import numpy as np  # For numerical operation\n",
    "import matplotlib.pyplot as plt  # For data visualization\n",
    "import seaborn as sns  # For advanced visualizations\n"
   ]
  },
  {
   "cell_type": "code",
   "execution_count": 23,
   "id": "69ee9ca2-22ad-4d67-873a-37f74ad1a490",
   "metadata": {},
   "outputs": [
    {
     "data": {
      "text/html": [
       "<div>\n",
       "<style scoped>\n",
       "    .dataframe tbody tr th:only-of-type {\n",
       "        vertical-align: middle;\n",
       "    }\n",
       "\n",
       "    .dataframe tbody tr th {\n",
       "        vertical-align: top;\n",
       "    }\n",
       "\n",
       "    .dataframe thead th {\n",
       "        text-align: right;\n",
       "    }\n",
       "</style>\n",
       "<table border=\"1\" class=\"dataframe\">\n",
       "  <thead>\n",
       "    <tr style=\"text-align: right;\">\n",
       "      <th></th>\n",
       "      <th>ID</th>\n",
       "      <th>Name</th>\n",
       "      <th>Sex</th>\n",
       "      <th>Age</th>\n",
       "      <th>Height</th>\n",
       "      <th>Weight</th>\n",
       "      <th>Team</th>\n",
       "      <th>NOC</th>\n",
       "      <th>Games</th>\n",
       "      <th>Year</th>\n",
       "      <th>Season</th>\n",
       "      <th>City</th>\n",
       "      <th>Sport</th>\n",
       "      <th>Event</th>\n",
       "      <th>Medal</th>\n",
       "    </tr>\n",
       "  </thead>\n",
       "  <tbody>\n",
       "    <tr>\n",
       "      <th>0</th>\n",
       "      <td>1</td>\n",
       "      <td>A Dijiang</td>\n",
       "      <td>M</td>\n",
       "      <td>24.0</td>\n",
       "      <td>180.0</td>\n",
       "      <td>80.0</td>\n",
       "      <td>China</td>\n",
       "      <td>CHN</td>\n",
       "      <td>1992 Summer</td>\n",
       "      <td>1992</td>\n",
       "      <td>Summer</td>\n",
       "      <td>Barcelona</td>\n",
       "      <td>Basketball</td>\n",
       "      <td>Basketball Men's Basketball</td>\n",
       "      <td>NaN</td>\n",
       "    </tr>\n",
       "    <tr>\n",
       "      <th>1</th>\n",
       "      <td>2</td>\n",
       "      <td>A Lamusi</td>\n",
       "      <td>M</td>\n",
       "      <td>23.0</td>\n",
       "      <td>170.0</td>\n",
       "      <td>60.0</td>\n",
       "      <td>China</td>\n",
       "      <td>CHN</td>\n",
       "      <td>2012 Summer</td>\n",
       "      <td>2012</td>\n",
       "      <td>Summer</td>\n",
       "      <td>London</td>\n",
       "      <td>Judo</td>\n",
       "      <td>Judo Men's Extra-Lightweight</td>\n",
       "      <td>NaN</td>\n",
       "    </tr>\n",
       "    <tr>\n",
       "      <th>2</th>\n",
       "      <td>3</td>\n",
       "      <td>Gunnar Nielsen Aaby</td>\n",
       "      <td>M</td>\n",
       "      <td>24.0</td>\n",
       "      <td>NaN</td>\n",
       "      <td>NaN</td>\n",
       "      <td>Denmark</td>\n",
       "      <td>DEN</td>\n",
       "      <td>1920 Summer</td>\n",
       "      <td>1920</td>\n",
       "      <td>Summer</td>\n",
       "      <td>Antwerpen</td>\n",
       "      <td>Football</td>\n",
       "      <td>Football Men's Football</td>\n",
       "      <td>NaN</td>\n",
       "    </tr>\n",
       "    <tr>\n",
       "      <th>3</th>\n",
       "      <td>4</td>\n",
       "      <td>Edgar Lindenau Aabye</td>\n",
       "      <td>M</td>\n",
       "      <td>34.0</td>\n",
       "      <td>NaN</td>\n",
       "      <td>NaN</td>\n",
       "      <td>Denmark/Sweden</td>\n",
       "      <td>DEN</td>\n",
       "      <td>1900 Summer</td>\n",
       "      <td>1900</td>\n",
       "      <td>Summer</td>\n",
       "      <td>Paris</td>\n",
       "      <td>Tug-Of-War</td>\n",
       "      <td>Tug-Of-War Men's Tug-Of-War</td>\n",
       "      <td>Gold</td>\n",
       "    </tr>\n",
       "    <tr>\n",
       "      <th>4</th>\n",
       "      <td>5</td>\n",
       "      <td>Christine Jacoba Aaftink</td>\n",
       "      <td>F</td>\n",
       "      <td>21.0</td>\n",
       "      <td>185.0</td>\n",
       "      <td>82.0</td>\n",
       "      <td>Netherlands</td>\n",
       "      <td>NED</td>\n",
       "      <td>1988 Winter</td>\n",
       "      <td>1988</td>\n",
       "      <td>Winter</td>\n",
       "      <td>Calgary</td>\n",
       "      <td>Speed Skating</td>\n",
       "      <td>Speed Skating Women's 500 metres</td>\n",
       "      <td>NaN</td>\n",
       "    </tr>\n",
       "  </tbody>\n",
       "</table>\n",
       "</div>"
      ],
      "text/plain": [
       "   ID                      Name Sex   Age  Height  Weight            Team  \\\n",
       "0   1                 A Dijiang   M  24.0   180.0    80.0           China   \n",
       "1   2                  A Lamusi   M  23.0   170.0    60.0           China   \n",
       "2   3       Gunnar Nielsen Aaby   M  24.0     NaN     NaN         Denmark   \n",
       "3   4      Edgar Lindenau Aabye   M  34.0     NaN     NaN  Denmark/Sweden   \n",
       "4   5  Christine Jacoba Aaftink   F  21.0   185.0    82.0     Netherlands   \n",
       "\n",
       "   NOC        Games  Year  Season       City          Sport  \\\n",
       "0  CHN  1992 Summer  1992  Summer  Barcelona     Basketball   \n",
       "1  CHN  2012 Summer  2012  Summer     London           Judo   \n",
       "2  DEN  1920 Summer  1920  Summer  Antwerpen       Football   \n",
       "3  DEN  1900 Summer  1900  Summer      Paris     Tug-Of-War   \n",
       "4  NED  1988 Winter  1988  Winter    Calgary  Speed Skating   \n",
       "\n",
       "                              Event Medal  \n",
       "0       Basketball Men's Basketball   NaN  \n",
       "1      Judo Men's Extra-Lightweight   NaN  \n",
       "2           Football Men's Football   NaN  \n",
       "3       Tug-Of-War Men's Tug-Of-War  Gold  \n",
       "4  Speed Skating Women's 500 metres   NaN  "
      ]
     },
     "execution_count": 23,
     "metadata": {},
     "output_type": "execute_result"
    }
   ],
   "source": [
    "#Loading the Dataset\n",
    "df=pd.read_csv(r'C:\\Users\\asus\\Downloads\\dataset_olympic.csv')\n",
    "df.head()"
   ]
  },
  {
   "cell_type": "code",
   "execution_count": 9,
   "id": "5f2b0447-e871-4f76-ace8-82ec2caaaae6",
   "metadata": {},
   "outputs": [
    {
     "name": "stdout",
     "output_type": "stream",
     "text": [
      "<class 'pandas.core.frame.DataFrame'>\n",
      "RangeIndex: 70000 entries, 0 to 69999\n",
      "Data columns (total 15 columns):\n",
      " #   Column  Non-Null Count  Dtype  \n",
      "---  ------  --------------  -----  \n",
      " 0   ID      70000 non-null  int64  \n",
      " 1   Name    70000 non-null  object \n",
      " 2   Sex     70000 non-null  object \n",
      " 3   Age     67268 non-null  float64\n",
      " 4   Height  53746 non-null  float64\n",
      " 5   Weight  52899 non-null  float64\n",
      " 6   Team    70000 non-null  object \n",
      " 7   NOC     70000 non-null  object \n",
      " 8   Games   70000 non-null  object \n",
      " 9   Year    70000 non-null  int64  \n",
      " 10  Season  70000 non-null  object \n",
      " 11  City    70000 non-null  object \n",
      " 12  Sport   70000 non-null  object \n",
      " 13  Event   70000 non-null  object \n",
      " 14  Medal   9690 non-null   object \n",
      "dtypes: float64(3), int64(2), object(10)\n",
      "memory usage: 8.0+ MB\n"
     ]
    }
   ],
   "source": [
    "df.info()"
   ]
  },
  {
   "cell_type": "code",
   "execution_count": 5,
   "id": "6d89eccb-cd45-4f31-aae7-c46aed5dc580",
   "metadata": {},
   "outputs": [
    {
     "data": {
      "text/html": [
       "<div>\n",
       "<style scoped>\n",
       "    .dataframe tbody tr th:only-of-type {\n",
       "        vertical-align: middle;\n",
       "    }\n",
       "\n",
       "    .dataframe tbody tr th {\n",
       "        vertical-align: top;\n",
       "    }\n",
       "\n",
       "    .dataframe thead th {\n",
       "        text-align: right;\n",
       "    }\n",
       "</style>\n",
       "<table border=\"1\" class=\"dataframe\">\n",
       "  <thead>\n",
       "    <tr style=\"text-align: right;\">\n",
       "      <th></th>\n",
       "      <th>ID</th>\n",
       "      <th>Age</th>\n",
       "      <th>Height</th>\n",
       "      <th>Weight</th>\n",
       "      <th>Year</th>\n",
       "    </tr>\n",
       "  </thead>\n",
       "  <tbody>\n",
       "    <tr>\n",
       "      <th>count</th>\n",
       "      <td>70000.000000</td>\n",
       "      <td>67268.000000</td>\n",
       "      <td>53746.000000</td>\n",
       "      <td>52899.000000</td>\n",
       "      <td>70000.000000</td>\n",
       "    </tr>\n",
       "    <tr>\n",
       "      <th>mean</th>\n",
       "      <td>18081.846986</td>\n",
       "      <td>25.644645</td>\n",
       "      <td>175.505303</td>\n",
       "      <td>70.900216</td>\n",
       "      <td>1977.766457</td>\n",
       "    </tr>\n",
       "    <tr>\n",
       "      <th>std</th>\n",
       "      <td>10235.613253</td>\n",
       "      <td>6.485239</td>\n",
       "      <td>10.384203</td>\n",
       "      <td>14.217489</td>\n",
       "      <td>30.103306</td>\n",
       "    </tr>\n",
       "    <tr>\n",
       "      <th>min</th>\n",
       "      <td>1.000000</td>\n",
       "      <td>11.000000</td>\n",
       "      <td>127.000000</td>\n",
       "      <td>25.000000</td>\n",
       "      <td>1896.000000</td>\n",
       "    </tr>\n",
       "    <tr>\n",
       "      <th>25%</th>\n",
       "      <td>9325.750000</td>\n",
       "      <td>21.000000</td>\n",
       "      <td>168.000000</td>\n",
       "      <td>61.000000</td>\n",
       "      <td>1960.000000</td>\n",
       "    </tr>\n",
       "    <tr>\n",
       "      <th>50%</th>\n",
       "      <td>18032.000000</td>\n",
       "      <td>25.000000</td>\n",
       "      <td>175.000000</td>\n",
       "      <td>70.000000</td>\n",
       "      <td>1984.000000</td>\n",
       "    </tr>\n",
       "    <tr>\n",
       "      <th>75%</th>\n",
       "      <td>26978.000000</td>\n",
       "      <td>28.000000</td>\n",
       "      <td>183.000000</td>\n",
       "      <td>79.000000</td>\n",
       "      <td>2002.000000</td>\n",
       "    </tr>\n",
       "    <tr>\n",
       "      <th>max</th>\n",
       "      <td>35658.000000</td>\n",
       "      <td>88.000000</td>\n",
       "      <td>223.000000</td>\n",
       "      <td>214.000000</td>\n",
       "      <td>2016.000000</td>\n",
       "    </tr>\n",
       "  </tbody>\n",
       "</table>\n",
       "</div>"
      ],
      "text/plain": [
       "                 ID           Age        Height        Weight          Year\n",
       "count  70000.000000  67268.000000  53746.000000  52899.000000  70000.000000\n",
       "mean   18081.846986     25.644645    175.505303     70.900216   1977.766457\n",
       "std    10235.613253      6.485239     10.384203     14.217489     30.103306\n",
       "min        1.000000     11.000000    127.000000     25.000000   1896.000000\n",
       "25%     9325.750000     21.000000    168.000000     61.000000   1960.000000\n",
       "50%    18032.000000     25.000000    175.000000     70.000000   1984.000000\n",
       "75%    26978.000000     28.000000    183.000000     79.000000   2002.000000\n",
       "max    35658.000000     88.000000    223.000000    214.000000   2016.000000"
      ]
     },
     "execution_count": 5,
     "metadata": {},
     "output_type": "execute_result"
    }
   ],
   "source": [
    "#Summary statistics for numerical columns\n",
    "df.describe()"
   ]
  },
  {
   "cell_type": "code",
   "execution_count": 6,
   "id": "57cbd94d-b670-485c-865c-7c5814187986",
   "metadata": {},
   "outputs": [
    {
     "data": {
      "text/plain": [
       "ID            0\n",
       "Name          0\n",
       "Sex           0\n",
       "Age        2732\n",
       "Height    16254\n",
       "Weight    17101\n",
       "Team          0\n",
       "NOC           0\n",
       "Games         0\n",
       "Year          0\n",
       "Season        0\n",
       "City          0\n",
       "Sport         0\n",
       "Event         0\n",
       "Medal     60310\n",
       "dtype: int64"
      ]
     },
     "execution_count": 6,
     "metadata": {},
     "output_type": "execute_result"
    }
   ],
   "source": [
    "# Count missing values in each column\n",
    "df.isnull().sum()"
   ]
  },
  {
   "cell_type": "code",
   "execution_count": 12,
   "id": "480517d2-444e-4451-8d6d-bbbde7bba2cc",
   "metadata": {},
   "outputs": [
    {
     "data": {
      "text/plain": [
       "np.int64(383)"
      ]
     },
     "execution_count": 12,
     "metadata": {},
     "output_type": "execute_result"
    }
   ],
   "source": [
    "df.duplicated().sum()"
   ]
  },
  {
   "cell_type": "code",
   "execution_count": 13,
   "id": "c95d2491-3535-4b4b-966a-6dd6ce59df2c",
   "metadata": {},
   "outputs": [],
   "source": [
    "df.drop_duplicates(inplace=True)"
   ]
  },
  {
   "cell_type": "code",
   "execution_count": 14,
   "id": "9b1246af-8fb3-443c-b83b-d4fb5145dc0b",
   "metadata": {},
   "outputs": [
    {
     "data": {
      "text/plain": [
       "np.int64(0)"
      ]
     },
     "execution_count": 14,
     "metadata": {},
     "output_type": "execute_result"
    }
   ],
   "source": [
    "df.duplicated().sum()"
   ]
  },
  {
   "cell_type": "code",
   "execution_count": 15,
   "id": "6b0fe693-54ea-4a4c-86bf-8919bee8091f",
   "metadata": {},
   "outputs": [
    {
     "name": "stdout",
     "output_type": "stream",
     "text": [
      "Index(['ID', 'Name', 'Sex', 'Age', 'Height', 'Weight', 'Team', 'NOC', 'Games',\n",
      "       'Year', 'Season', 'City', 'Sport', 'Event', 'Medal'],\n",
      "      dtype='object')\n"
     ]
    }
   ],
   "source": [
    "print(df.columns)"
   ]
  },
  {
   "cell_type": "code",
   "execution_count": 7,
   "id": "c3bcc9a5-170d-42c4-9c92-4a4a86bddceb",
   "metadata": {},
   "outputs": [
    {
     "name": "stdout",
     "output_type": "stream",
     "text": [
      "Total unique athletes: 35556\n"
     ]
    }
   ],
   "source": [
    "#Determine the total number of unique athletes, sports, and events\n",
    "print(\"Total unique athletes:\", df['Name'].nunique())\n"
   ]
  },
  {
   "cell_type": "code",
   "execution_count": 17,
   "id": "16fa1104-72eb-4c68-adc4-cea27936a025",
   "metadata": {},
   "outputs": [
    {
     "name": "stdout",
     "output_type": "stream",
     "text": [
      "Total unique sports: 65\n"
     ]
    }
   ],
   "source": [
    "print(\"Total unique sports:\", df['Sport'].nunique())\n"
   ]
  },
  {
   "cell_type": "code",
   "execution_count": 19,
   "id": "85170b21-ae59-41ee-8ec7-af56692a040f",
   "metadata": {},
   "outputs": [
    {
     "name": "stdout",
     "output_type": "stream",
     "text": [
      "Total unique events: 744\n"
     ]
    }
   ],
   "source": [
    "print(\"Total unique events:\", df['Event'].nunique())"
   ]
  },
  {
   "cell_type": "code",
   "execution_count": 21,
   "id": "d7d45694-6fca-4301-8f1e-68c1bcb52fdb",
   "metadata": {},
   "outputs": [
    {
     "name": "stdout",
     "output_type": "stream",
     "text": [
      "Most common sports:\n",
      " Sport\n",
      "Athletics               10629\n",
      "Gymnastics               6248\n",
      "Swimming                 5964\n",
      "Fencing                  3096\n",
      "Shooting                 3040\n",
      "Cycling                  2788\n",
      "Rowing                   2690\n",
      "Alpine Skiing            2326\n",
      "Cross Country Skiing     2153\n",
      "Football                 1959\n",
      "Name: count, dtype: int64\n"
     ]
    }
   ],
   "source": [
    "print(\"Most common sports:\\n\",df['Sport'].value_counts().head(10)) "
   ]
  },
  {
   "cell_type": "code",
   "execution_count": 22,
   "id": "46274b2f-529b-44f8-a1d4-40b7a35cb66f",
   "metadata": {},
   "outputs": [
    {
     "name": "stdout",
     "output_type": "stream",
     "text": [
      "Most common events:\n",
      " Event\n",
      "Football Men's Football                   1738\n",
      "Hockey Men's Hockey                       1133\n",
      "Ice Hockey Men's Ice Hockey               1009\n",
      "Basketball Men's Basketball                921\n",
      "Water Polo Men's Water Polo                911\n",
      "Cycling Men's Road Race, Individual        737\n",
      "Rowing Men's Coxed Eights                  648\n",
      "Athletics Men's 4 x 100 metres Relay       591\n",
      "Athletics Men's 100 metres                 585\n",
      "Gymnastics Men's Individual All-Around     583\n",
      "Name: count, dtype: int64\n"
     ]
    }
   ],
   "source": [
    "print(\"Most common events:\\n\",df['Event'].value_counts().head(10)) "
   ]
  },
  {
   "cell_type": "code",
   "execution_count": 9,
   "id": "9cc0a80c-77f2-4b1d-b1a7-b8a839deaa5e",
   "metadata": {},
   "outputs": [
    {
     "name": "stdout",
     "output_type": "stream",
     "text": [
      "NOC\n",
      "USA    1561\n",
      "FRA     660\n",
      "ITA     604\n",
      "GBR     604\n",
      "URS     515\n",
      "       ... \n",
      "WIF       0\n",
      "YEM       0\n",
      "YAR       0\n",
      "YMD       0\n",
      "ZAM       0\n",
      "Name: Medal, Length: 226, dtype: int64\n"
     ]
    }
   ],
   "source": [
    "# Count of medals won by each country (NOC)\n",
    "medal_counts = df.groupby('NOC')['Medal'].count().sort_values(ascending=False)\n",
    "print(medal_counts)\n"
   ]
  },
  {
   "cell_type": "code",
   "execution_count": 10,
   "id": "fc684140-4138-4346-85d0-ae951937d56e",
   "metadata": {},
   "outputs": [
    {
     "name": "stdout",
     "output_type": "stream",
     "text": [
      "Season\n",
      "Summer    31209\n",
      "Winter     4486\n",
      "Name: ID, dtype: int64\n"
     ]
    }
   ],
   "source": [
    "# Number of athletes in Summer vs. Winter Olympics\n",
    "season_comparison = df.groupby(\"Season\")[\"ID\"].nunique()\n",
    "print(season_comparison)\n"
   ]
  },
  {
   "cell_type": "code",
   "execution_count": 16,
   "id": "d09cc60f-bfb8-4c8b-9246-644524f875a7",
   "metadata": {},
   "outputs": [
    {
     "name": "stdout",
     "output_type": "stream",
     "text": [
      "Sport\n",
      "Rhythmic Gymnastics          18.557692\n",
      "Swimming                     20.525409\n",
      "Synchronized Swimming        22.121569\n",
      "Racquets                     22.333333\n",
      "Diving                       22.377778\n",
      "Figure Skating               22.402397\n",
      "Gymnastics                   22.574747\n",
      "Boxing                       22.908216\n",
      "Short Track Speed Skating    22.910112\n",
      "Alpine Skiing                23.099740\n",
      "Name: Age, dtype: float64\n"
     ]
    }
   ],
   "source": [
    " #calculating the average age of participants in each sport\n",
    "age_analysis = df.groupby(\"Sport\")[\"Age\"].mean().sort_values()\n",
    "print(age_analysis.head(10))\n"
   ]
  },
  {
   "cell_type": "code",
   "execution_count": 17,
   "id": "66ff562e-beb1-41ba-8522-00a98695ed21",
   "metadata": {},
   "outputs": [
    {
     "data": {
      "text/html": [
       "<div>\n",
       "<style scoped>\n",
       "    .dataframe tbody tr th:only-of-type {\n",
       "        vertical-align: middle;\n",
       "    }\n",
       "\n",
       "    .dataframe tbody tr th {\n",
       "        vertical-align: top;\n",
       "    }\n",
       "\n",
       "    .dataframe thead th {\n",
       "        text-align: right;\n",
       "    }\n",
       "</style>\n",
       "<table border=\"1\" class=\"dataframe\">\n",
       "  <thead>\n",
       "    <tr style=\"text-align: right;\">\n",
       "      <th></th>\n",
       "      <th>Age</th>\n",
       "      <th>Height</th>\n",
       "      <th>Weight</th>\n",
       "    </tr>\n",
       "    <tr>\n",
       "      <th>Sport</th>\n",
       "      <th></th>\n",
       "      <th></th>\n",
       "      <th></th>\n",
       "    </tr>\n",
       "  </thead>\n",
       "  <tbody>\n",
       "    <tr>\n",
       "      <th>Art Competitions</th>\n",
       "      <td>45.662162</td>\n",
       "      <td>180.733333</td>\n",
       "      <td>86.000000</td>\n",
       "    </tr>\n",
       "    <tr>\n",
       "      <th>Alpinism</th>\n",
       "      <td>40.666667</td>\n",
       "      <td>NaN</td>\n",
       "      <td>NaN</td>\n",
       "    </tr>\n",
       "    <tr>\n",
       "      <th>Roque</th>\n",
       "      <td>37.000000</td>\n",
       "      <td>NaN</td>\n",
       "      <td>NaN</td>\n",
       "    </tr>\n",
       "    <tr>\n",
       "      <th>Jeu De Paume</th>\n",
       "      <td>36.000000</td>\n",
       "      <td>NaN</td>\n",
       "      <td>NaN</td>\n",
       "    </tr>\n",
       "    <tr>\n",
       "      <th>Polo</th>\n",
       "      <td>35.388889</td>\n",
       "      <td>NaN</td>\n",
       "      <td>NaN</td>\n",
       "    </tr>\n",
       "    <tr>\n",
       "      <th>...</th>\n",
       "      <td>...</td>\n",
       "      <td>...</td>\n",
       "      <td>...</td>\n",
       "    </tr>\n",
       "    <tr>\n",
       "      <th>Diving</th>\n",
       "      <td>22.377778</td>\n",
       "      <td>166.197441</td>\n",
       "      <td>60.486590</td>\n",
       "    </tr>\n",
       "    <tr>\n",
       "      <th>Racquets</th>\n",
       "      <td>22.333333</td>\n",
       "      <td>NaN</td>\n",
       "      <td>NaN</td>\n",
       "    </tr>\n",
       "    <tr>\n",
       "      <th>Synchronized Swimming</th>\n",
       "      <td>22.121569</td>\n",
       "      <td>167.721311</td>\n",
       "      <td>55.799163</td>\n",
       "    </tr>\n",
       "    <tr>\n",
       "      <th>Swimming</th>\n",
       "      <td>20.525409</td>\n",
       "      <td>178.088992</td>\n",
       "      <td>69.875672</td>\n",
       "    </tr>\n",
       "    <tr>\n",
       "      <th>Rhythmic Gymnastics</th>\n",
       "      <td>18.557692</td>\n",
       "      <td>166.841060</td>\n",
       "      <td>47.785235</td>\n",
       "    </tr>\n",
       "  </tbody>\n",
       "</table>\n",
       "<p>65 rows × 3 columns</p>\n",
       "</div>"
      ],
      "text/plain": [
       "                             Age      Height     Weight\n",
       "Sport                                                  \n",
       "Art Competitions       45.662162  180.733333  86.000000\n",
       "Alpinism               40.666667         NaN        NaN\n",
       "Roque                  37.000000         NaN        NaN\n",
       "Jeu De Paume           36.000000         NaN        NaN\n",
       "Polo                   35.388889         NaN        NaN\n",
       "...                          ...         ...        ...\n",
       "Diving                 22.377778  166.197441  60.486590\n",
       "Racquets               22.333333         NaN        NaN\n",
       "Synchronized Swimming  22.121569  167.721311  55.799163\n",
       "Swimming               20.525409  178.088992  69.875672\n",
       "Rhythmic Gymnastics    18.557692  166.841060  47.785235\n",
       "\n",
       "[65 rows x 3 columns]"
      ]
     },
     "execution_count": 17,
     "metadata": {},
     "output_type": "execute_result"
    }
   ],
   "source": [
    "df.groupby('Sport')[['Age', 'Height', 'Weight']].mean().sort_values(by='Age', ascending=False)\n"
   ]
  },
  {
   "cell_type": "code",
   "execution_count": 18,
   "id": "7df62eb1-0568-4558-9913-e2cbe86895f7",
   "metadata": {},
   "outputs": [
    {
     "data": {
      "text/plain": [
       "Sport\n",
       "Art Competitions         45.662162\n",
       "Alpinism                 40.666667\n",
       "Roque                    37.000000\n",
       "Jeu De Paume             36.000000\n",
       "Polo                     35.388889\n",
       "                           ...    \n",
       "Diving                   22.377778\n",
       "Racquets                 22.333333\n",
       "Synchronized Swimming    22.121569\n",
       "Swimming                 20.525409\n",
       "Rhythmic Gymnastics      18.557692\n",
       "Name: Age, Length: 65, dtype: float64"
      ]
     },
     "execution_count": 18,
     "metadata": {},
     "output_type": "execute_result"
    }
   ],
   "source": [
    " #Find sports with youngest and oldest participants\n",
    "df.groupby('Sport')['Age'].mean().sort_values(ascending=False)\n"
   ]
  },
  {
   "cell_type": "code",
   "execution_count": 26,
   "id": "6b523643-4fd8-4c23-9297-4ae0e3ab4794",
   "metadata": {},
   "outputs": [
    {
     "data": {
      "image/png": "[encoded data removed]",
      "text/plain": [
       "<Figure size 640x480 with 1 Axes>"
      ]
     },
     "metadata": {},
     "output_type": "display_data"
    }
   ],
   "source": [
    "# Univariate Analysis (Individual Feature Analysis)\n",
    "#Distribution of Numerical Features (Age, Height, Weight)\n",
    "sns.histplot(df['Age'], bins=30, kde=True)\n",
    "plt.title(\"Age Distribution of Athletes\")\n",
    "plt.show()"
   ]
  },
  {
   "cell_type": "code",
   "execution_count": null,
   "id": "004562f8-ad75-478d-8b29-6c765408381d",
   "metadata": {},
   "outputs": [],
   "source": []
  }
 ],
 "metadata": {
  "kernelspec": {
   "display_name": "Python 3 (ipykernel)",
   "language": "python",
   "name": "python3"
  },
  "language_info": {
   "codemirror_mode": {
    "name": "ipython",
    "version": 3
   },
   "file_extension": ".py",
   "mimetype": "text/x-python",
   "name": "python",
   "nbconvert_exporter": "python",
   "pygments_lexer": "ipython3",
   "version": "3.12.8"
  }
 },
 "nbformat": 4,
 "nbformat_minor": 5
}
